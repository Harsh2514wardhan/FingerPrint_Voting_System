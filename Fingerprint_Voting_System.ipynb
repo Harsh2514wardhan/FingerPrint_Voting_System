{
  "nbformat": 4,
  "nbformat_minor": 0,
  "metadata": {
    "colab": {
      "provenance": []
    },
    "kernelspec": {
      "name": "python3",
      "display_name": "Python 3"
    },
    "language_info": {
      "name": "python"
    }
  },
  "cells": [
    {
      "cell_type": "markdown",
      "source": [
        "prompt: a fingerprint voting system project where the fingerprint will be taken from a fingerprint reader hardware\n",
        "\n",
        "This code provides a conceptual framework.  \n",
        "Actual implementation requires specific hardware libraries and may vary."
      ],
      "metadata": {
        "id": "YDeVdL7PoH7f"
      }
    },
    {
      "cell_type": "code",
      "source": [
        "#prompt: a fingerprint voting system project where the fingerprint will be taken from a fingerprint reader hardware\n",
        "\n",
        "#This code provides a conceptual framework.\n",
        "#Actual implementation requires specific hardware libraries and may vary.\n",
        "import hashlib"
      ],
      "metadata": {
        "id": "mcXhsTYXoCa-"
      },
      "execution_count": 28,
      "outputs": []
    },
    {
      "cell_type": "code",
      "source": [
        "class Voter:\n",
        "    def __init__(self, name, id_number):\n",
        "        self.name = name\n",
        "        self.id_number = id_number\n",
        "        self.fingerprint_hash = None # Placeholder for fingerprint hash"
      ],
      "metadata": {
        "id": "NTkceJx7oRpb"
      },
      "execution_count": 11,
      "outputs": []
    },
    {
      "cell_type": "code",
      "source": [
        "    def register_fingerprint(self):\n",
        "        # Replace this with actual fingerprint reading from hardware\n",
        "        # Example: fingerprint_data = fingerprint_reader.capture_fingerprint()\n",
        "        fingerprint_data = \"simulated_fingerprint_data\"  # Placeholder\n",
        "        self.fingerprint_hash = hashlib.sha256(fingerprint_data.encode()).hexdigest()\n"
      ],
      "metadata": {
        "id": "P_Gr9exaoXl8"
      },
      "execution_count": 10,
      "outputs": []
    },
    {
      "cell_type": "code",
      "source": [
        "    def verify_fingerprint(self):\n",
        "      # Replace with actual fingerprint capture\n",
        "      fingerprint_data = \"simulated_fingerprint_data\"  # Placeholder\n",
        "      new_fingerprint_hash = hashlib.sha256(fingerprint_data.encode()).hexdigest()\n",
        "      return new_fingerprint_hash == self.fingerprint_hash"
      ],
      "metadata": {
        "id": "AdrPqLuNoiCa"
      },
      "execution_count": 13,
      "outputs": []
    },
    {
      "cell_type": "code",
      "source": [
        "class VotingSystem:\n",
        "    def __init__(self):\n",
        "        self.voters = {}  # Store registered voters (id_number: Voter object)\n",
        "        self.candidates = {}  # Store candidate names and vote counts"
      ],
      "metadata": {
        "id": "OBnpR9CXokie"
      },
      "execution_count": 14,
      "outputs": []
    },
    {
      "cell_type": "code",
      "source": [
        "def register_voter(self, voter):\n",
        "        if voter.id_number not in self.voters:\n",
        "            voter.register_fingerprint()  # Capture fingerprint during registration\n",
        "            self.voters[voter.id_number] = voter\n",
        "            print(f\"Voter {voter.name} registered successfully.\")\n",
        "        else:\n",
        "            print(\"Voter already registered.\")"
      ],
      "metadata": {
        "id": "_sjzhkzoonyY"
      },
      "execution_count": 15,
      "outputs": []
    },
    {
      "cell_type": "code",
      "source": [
        "def cast_vote(self, id_number, candidate_name):\n",
        "        if id_number in self.voters:\n",
        "            voter = self.voters[id_number]\n",
        "            if voter.verify_fingerprint(): # Verify fingerprint before voting\n",
        "                if candidate_name in self.candidates:\n",
        "                    self.candidates[candidate_name] += 1\n",
        "                    print(f\"Vote cast for {candidate_name}.\")\n",
        "                else:\n",
        "                    print(\"Invalid candidate.\")\n",
        "            else:\n",
        "                print(\"Fingerprint verification failed.\")\n",
        "        else:\n",
        "            print(\"Voter not registered.\")"
      ],
      "metadata": {
        "id": "Sc2vpA5LosuH"
      },
      "execution_count": 16,
      "outputs": []
    },
    {
      "cell_type": "code",
      "source": [
        "def add_candidate(self, candidate_name):\n",
        "        if candidate_name not in self.candidates:\n",
        "            self.candidates[candidate_name] = 0\n",
        "            print(f\"Candidate {candidate_name} added.\")\n",
        "        else:\n",
        "            print(f\"Candidate {candidate_name} already exists.\")"
      ],
      "metadata": {
        "id": "fprff4xvotf8"
      },
      "execution_count": 22,
      "outputs": []
    },
    {
      "cell_type": "code",
      "source": [
        "    def get_results(self):\n",
        "        print(\"Vote Results:\")\n",
        "        for candidate, votes in self.candidates.items():\n",
        "            print(f\"{candidate}: {votes} votes\")\n"
      ],
      "metadata": {
        "id": "7LxrZ6QSpZCD"
      },
      "execution_count": 21,
      "outputs": []
    },
    {
      "cell_type": "code",
      "source": [
        "# Example usage\n",
        "voting_system = VotingSystem()\n",
        "voting_system.add_candidate(\"Candidate A\")\n",
        "voting_system.add_candidate(\"Candidate B\")\n",
        "\n",
        "\n",
        "voter1 = Voter(\"Alice\", \"12345\")\n",
        "voting_system.register_voter(voter1)\n",
        "\n",
        "\n",
        "voting_system.cast_vote(\"12345\", \"Candidate A\")\n",
        "\n",
        "voting_system.get_results()"
      ],
      "metadata": {
        "colab": {
          "base_uri": "https://localhost:8080/"
        },
        "id": "0GIntnK4pdWJ",
        "outputId": "d619235b-e001-47a4-d179-8bb12119a6d8"
      },
      "execution_count": 26,
      "outputs": [
        {
          "output_type": "stream",
          "name": "stdout",
          "text": [
            "Candidate Candidate A added.\n",
            "Candidate Candidate B added.\n",
            "Voter Alice registered successfully.\n",
            "Vote cast for Candidate A.\n",
            "Vote Results:\n",
            "Candidate A: 1 votes\n",
            "Candidate B: 0 votes\n"
          ]
        }
      ]
    },
    {
      "cell_type": "markdown",
      "source": [],
      "metadata": {
        "id": "UxgKcVCgoHQC"
      }
    }
  ]
}